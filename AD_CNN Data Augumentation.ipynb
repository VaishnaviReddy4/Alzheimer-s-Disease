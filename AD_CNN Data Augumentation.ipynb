{
 "cells": [
  {
   "cell_type": "code",
   "execution_count": 1,
   "metadata": {},
   "outputs": [],
   "source": [
    "#Import Necessary Libraries\n",
    "import tensorflow as tf\n",
    "from tensorflow.keras import datasets, layers, models\n",
    "import matplotlib.pyplot as plt"
   ]
  },
  {
   "cell_type": "markdown",
   "metadata": {},
   "source": [
    "## CNN with two Convolution layers Without Data Augumentation"
   ]
  },
  {
   "cell_type": "code",
   "execution_count": 2,
   "metadata": {},
   "outputs": [],
   "source": [
    "train_datagen_with_transforms = tf.keras.preprocessing.image.ImageDataGenerator(\n",
    "    rescale=1./255,\n",
    "    zoom_range=0.2,\n",
    "    horizontal_flip=True)\n",
    "train_datagen_with_no_transforms = tf.keras.preprocessing.image.ImageDataGenerator(\n",
    "    rescale=1./255)\n",
    "val_datagen = tf.keras.preprocessing.image.ImageDataGenerator(\n",
    "        rescale=1./255)"
   ]
  },
  {
   "cell_type": "code",
   "execution_count": 3,
   "metadata": {},
   "outputs": [
    {
     "name": "stdout",
     "output_type": "stream",
     "text": [
      "Found 1101 images belonging to 5 classes.\n",
      "Found 1101 images belonging to 5 classes.\n",
      "Found 195 images belonging to 5 classes.\n"
     ]
    }
   ],
   "source": [
    "train_generator = train_datagen_with_no_transforms.flow_from_directory(\n",
    "    r'E:\\SEM-5_FALL_21-22\\Machine Intelligence in Medical Analysis_CSE3042\\ALZEIMERS DETECTION\\Alzheimers-ADNI\\train',\n",
    "    target_size=(32, 32),\n",
    "    batch_size=32,\n",
    "    class_mode=\"sparse\"\n",
    ")\n",
    "train_generator_with_data_augmentation = train_datagen_with_transforms.flow_from_directory(\n",
    "    r'E:\\SEM-5_FALL_21-22\\Machine Intelligence in Medical Analysis_CSE3042\\ALZEIMERS DETECTION\\Alzheimers-ADNI\\train',\n",
    "    target_size=(32, 32),\n",
    "    batch_size=32,\n",
    "    class_mode=\"sparse\"\n",
    ")\n",
    "validation_generator = val_datagen.flow_from_directory(\n",
    "    r'E:\\SEM-5_FALL_21-22\\Machine Intelligence in Medical Analysis_CSE3042\\ALZEIMERS DETECTION\\Alzheimers-ADNI\\test',\n",
    "    target_size=(32, 32),\n",
    "    batch_size=32,\n",
    "    class_mode=\"sparse\"\n",
    ")"
   ]
  },
  {
   "cell_type": "code",
   "execution_count": 4,
   "metadata": {},
   "outputs": [],
   "source": [
    "sample_data = next(validation_generator)"
   ]
  },
  {
   "cell_type": "code",
   "execution_count": 5,
   "metadata": {},
   "outputs": [
    {
     "data": {
      "text/plain": [
       "(32, 32, 32, 3)"
      ]
     },
     "execution_count": 5,
     "metadata": {},
     "output_type": "execute_result"
    }
   ],
   "source": [
    "sample_data[0].shape"
   ]
  },
  {
   "cell_type": "code",
   "execution_count": 6,
   "metadata": {},
   "outputs": [],
   "source": [
    "nb_train_samples = train_generator.samples\n",
    "nb_val_samples = validation_generator.samples"
   ]
  },
  {
   "cell_type": "code",
   "execution_count": 7,
   "metadata": {},
   "outputs": [],
   "source": [
    "model =models.Sequential()\n",
    "model.add(tf.keras.layers.Conv2D(16, (3,3), activation=\"relu\", input_shape=(32,32,3), padding=\"same\"))\n",
    "model.add(tf.keras.layers.Conv2D(16, (3,3), activation=\"relu\", padding=\"same\"))\n",
    "model.add(tf.keras.layers.Flatten())\n",
    "model.add(tf.keras.layers.Dense(64, activation=\"relu\"))\n",
    "model.add(tf.keras.layers.Dense(10))"
   ]
  },
  {
   "cell_type": "code",
   "execution_count": 8,
   "metadata": {},
   "outputs": [],
   "source": [
    "loss_fn = tf.keras.losses.SparseCategoricalCrossentropy(from_logits=True)"
   ]
  },
  {
   "cell_type": "code",
   "execution_count": 9,
   "metadata": {},
   "outputs": [],
   "source": [
    "optimizer_fn = tf.keras.optimizers.Adam(learning_rate=0.001)"
   ]
  },
  {
   "cell_type": "code",
   "execution_count": 10,
   "metadata": {},
   "outputs": [],
   "source": [
    "model.compile(optimizer=optimizer_fn,\n",
    "              loss=loss_fn,\n",
    "              metrics=['accuracy'])"
   ]
  },
  {
   "cell_type": "code",
   "execution_count": 11,
   "metadata": {},
   "outputs": [
    {
     "name": "stderr",
     "output_type": "stream",
     "text": [
      "C:\\Users\\reddy\\Anaconda3\\lib\\site-packages\\keras\\engine\\training.py:1972: UserWarning: `Model.fit_generator` is deprecated and will be removed in a future version. Please use `Model.fit`, which supports generators.\n",
      "  warnings.warn('`Model.fit_generator` is deprecated and '\n"
     ]
    },
    {
     "name": "stdout",
     "output_type": "stream",
     "text": [
      "Epoch 1/30\n",
      "34/34 [==============================] - 5s 137ms/step - loss: 1.4863 - accuracy: 0.4305 - val_loss: 1.4576 - val_accuracy: 0.4462\n",
      "Epoch 2/30\n",
      "34/34 [==============================] - 5s 129ms/step - loss: 1.3839 - accuracy: 0.4587 - val_loss: 1.3997 - val_accuracy: 0.4410\n",
      "Epoch 3/30\n",
      "34/34 [==============================] - 5s 138ms/step - loss: 1.2584 - accuracy: 0.5005 - val_loss: 1.4183 - val_accuracy: 0.4564\n",
      "Epoch 4/30\n",
      "34/34 [==============================] - 4s 127ms/step - loss: 1.1152 - accuracy: 0.5713 - val_loss: 1.5030 - val_accuracy: 0.4410\n",
      "Epoch 5/30\n",
      "34/34 [==============================] - 7s 201ms/step - loss: 0.9660 - accuracy: 0.6058 - val_loss: 1.4790 - val_accuracy: 0.4051\n",
      "Epoch 6/30\n",
      "34/34 [==============================] - 6s 177ms/step - loss: 0.8026 - accuracy: 0.6939 - val_loss: 1.5432 - val_accuracy: 0.3846\n",
      "Epoch 7/30\n",
      "34/34 [==============================] - 5s 157ms/step - loss: 0.6613 - accuracy: 0.7602 - val_loss: 1.5944 - val_accuracy: 0.3897\n",
      "Epoch 8/30\n",
      "34/34 [==============================] - 6s 176ms/step - loss: 0.5361 - accuracy: 0.8202 - val_loss: 1.7023 - val_accuracy: 0.3385\n",
      "Epoch 9/30\n",
      "34/34 [==============================] - 8s 243ms/step - loss: 0.4020 - accuracy: 0.8783 - val_loss: 1.9047 - val_accuracy: 0.3949\n",
      "Epoch 10/30\n",
      "34/34 [==============================] - 6s 178ms/step - loss: 0.3155 - accuracy: 0.9110 - val_loss: 2.0392 - val_accuracy: 0.3846\n",
      "Epoch 11/30\n",
      "34/34 [==============================] - 6s 185ms/step - loss: 0.2024 - accuracy: 0.9609 - val_loss: 2.1780 - val_accuracy: 0.3795\n",
      "Epoch 12/30\n",
      "34/34 [==============================] - 8s 213ms/step - loss: 0.1532 - accuracy: 0.9809 - val_loss: 2.4005 - val_accuracy: 0.3590\n",
      "Epoch 13/30\n",
      "34/34 [==============================] - 6s 186ms/step - loss: 0.1001 - accuracy: 0.9900 - val_loss: 2.7045 - val_accuracy: 0.3436\n",
      "Epoch 14/30\n",
      "34/34 [==============================] - 5s 155ms/step - loss: 0.0677 - accuracy: 0.9964 - val_loss: 2.8588 - val_accuracy: 0.3590\n",
      "Epoch 15/30\n",
      "34/34 [==============================] - 5s 149ms/step - loss: 0.0494 - accuracy: 0.9973 - val_loss: 3.0689 - val_accuracy: 0.3795\n",
      "Epoch 16/30\n",
      "34/34 [==============================] - 5s 153ms/step - loss: 0.0330 - accuracy: 0.9991 - val_loss: 3.2246 - val_accuracy: 0.3692\n",
      "Epoch 17/30\n",
      "34/34 [==============================] - 5s 144ms/step - loss: 0.0258 - accuracy: 0.9991 - val_loss: 3.3037 - val_accuracy: 0.3436\n",
      "Epoch 18/30\n",
      "34/34 [==============================] - 5s 148ms/step - loss: 0.0193 - accuracy: 1.0000 - val_loss: 3.5239 - val_accuracy: 0.3436\n",
      "Epoch 19/30\n",
      "34/34 [==============================] - 5s 134ms/step - loss: 0.0173 - accuracy: 0.9991 - val_loss: 3.6283 - val_accuracy: 0.3795\n",
      "Epoch 20/30\n",
      "34/34 [==============================] - 6s 166ms/step - loss: 0.0126 - accuracy: 0.9991 - val_loss: 3.6984 - val_accuracy: 0.3487\n",
      "Epoch 21/30\n",
      "34/34 [==============================] - 8s 235ms/step - loss: 0.0120 - accuracy: 0.9991 - val_loss: 3.7972 - val_accuracy: 0.3744\n",
      "Epoch 22/30\n",
      "34/34 [==============================] - 4s 109ms/step - loss: 0.0095 - accuracy: 0.9991 - val_loss: 3.8778 - val_accuracy: 0.3744\n",
      "Epoch 23/30\n",
      "34/34 [==============================] - 4s 126ms/step - loss: 0.0084 - accuracy: 0.9991 - val_loss: 3.9499 - val_accuracy: 0.3897\n",
      "Epoch 24/30\n",
      "34/34 [==============================] - 4s 108ms/step - loss: 0.0076 - accuracy: 0.9991 - val_loss: 4.0256 - val_accuracy: 0.3436\n",
      "Epoch 25/30\n",
      "34/34 [==============================] - 4s 109ms/step - loss: 0.0060 - accuracy: 0.9991 - val_loss: 4.1222 - val_accuracy: 0.3846\n",
      "Epoch 26/30\n",
      "34/34 [==============================] - 4s 117ms/step - loss: 0.0056 - accuracy: 0.9991 - val_loss: 4.1947 - val_accuracy: 0.3487\n",
      "Epoch 27/30\n",
      "34/34 [==============================] - 4s 109ms/step - loss: 0.0060 - accuracy: 1.0000 - val_loss: 4.2269 - val_accuracy: 0.3487\n",
      "Epoch 28/30\n",
      "34/34 [==============================] - 4s 116ms/step - loss: 0.0051 - accuracy: 0.9991 - val_loss: 4.2634 - val_accuracy: 0.3538\n",
      "Epoch 29/30\n",
      "34/34 [==============================] - 5s 128ms/step - loss: 0.0049 - accuracy: 0.9991 - val_loss: 4.3626 - val_accuracy: 0.3487\n",
      "Epoch 30/30\n",
      "34/34 [==============================] - 5s 140ms/step - loss: 0.0039 - accuracy: 0.9991 - val_loss: 4.3996 - val_accuracy: 0.3795\n"
     ]
    }
   ],
   "source": [
    "history = model.fit_generator(train_generator, steps_per_epoch=nb_train_samples/32, \n",
    "                    epochs=30, validation_data=validation_generator,\n",
    "                    validation_steps=nb_val_samples/32)"
   ]
  },
  {
   "cell_type": "code",
   "execution_count": 12,
   "metadata": {},
   "outputs": [
    {
     "data": {
      "image/png": "[encoded data removed]",
      "text/plain": [
       "<Figure size 720x288 with 2 Axes>"
      ]
     },
     "metadata": {
      "needs_background": "light"
     },
     "output_type": "display_data"
    }
   ],
   "source": [
    "figure= plt.figure(figsize=(10,4))\n",
    "ax = plt.subplot(121)\n",
    "ax.plot(history.history['loss'], 'r', label='train')\n",
    "ax.plot(history.history['val_loss'], 'g', label='val')\n",
    "\n",
    "plt.legend()\n",
    "plt.grid(axis='y')\n",
    "plt.xlabel(\"epoch\")\n",
    "plt.ylabel(\"Loss\")\n",
    "\n",
    "ax2 = plt.subplot(122)\n",
    "ax2.plot(history.history['accuracy'], 'b', label=\"train\")\n",
    "ax2.plot(history.history['val_accuracy'], 'g', label=\"val\")\n",
    "plt.legend()\n",
    "plt.xlabel(\"epoch\")\n",
    "plt.ylabel(\"accuracy\")\n",
    "plt.grid(axis='y')\n",
    "plt.savefig(\"cifar10_training_val_no_dropout\")"
   ]
  },
  {
   "cell_type": "markdown",
   "metadata": {},
   "source": [
    "## CNN with two Convolution layers  With Data Augumentation"
   ]
  },
  {
   "cell_type": "code",
   "execution_count": 13,
   "metadata": {},
   "outputs": [],
   "source": [
    "model =models.Sequential()\n",
    "model.add(tf.keras.layers.Conv2D(16, (3,3), activation=\"relu\", input_shape=(32,32,3), padding=\"same\"))\n",
    "model.add(tf.keras.layers.Conv2D(16, (3,3), activation=\"relu\", padding=\"same\"))\n",
    "model.add(tf.keras.layers.Flatten())\n",
    "model.add(tf.keras.layers.Dense(64, activation=\"relu\"))\n",
    "model.add(tf.keras.layers.Dense(10))"
   ]
  },
  {
   "cell_type": "code",
   "execution_count": 14,
   "metadata": {},
   "outputs": [],
   "source": [
    "loss_fn = tf.keras.losses.SparseCategoricalCrossentropy(from_logits=True)"
   ]
  },
  {
   "cell_type": "code",
   "execution_count": 15,
   "metadata": {},
   "outputs": [],
   "source": [
    "optimizer_fn = tf.keras.optimizers.Adam(learning_rate=0.001)"
   ]
  },
  {
   "cell_type": "code",
   "execution_count": 16,
   "metadata": {},
   "outputs": [],
   "source": [
    "model.compile(optimizer=optimizer_fn,\n",
    "              loss=loss_fn,\n",
    "              metrics=['accuracy'])"
   ]
  },
  {
   "cell_type": "code",
   "execution_count": 17,
   "metadata": {
    "scrolled": true
   },
   "outputs": [
    {
     "name": "stdout",
     "output_type": "stream",
     "text": [
      "Epoch 1/30\n",
      "34/34 [==============================] - 8s 228ms/step - loss: 1.5592 - accuracy: 0.3933 - val_loss: 1.4407 - val_accuracy: 0.4308\n",
      "Epoch 2/30\n",
      "34/34 [==============================] - 6s 159ms/step - loss: 1.4276 - accuracy: 0.4405 - val_loss: 1.4555 - val_accuracy: 0.3795\n",
      "Epoch 3/30\n",
      "34/34 [==============================] - 7s 215ms/step - loss: 1.4136 - accuracy: 0.4469 - val_loss: 1.4198 - val_accuracy: 0.4667\n",
      "Epoch 4/30\n",
      "34/34 [==============================] - 7s 198ms/step - loss: 1.4083 - accuracy: 0.4332 - val_loss: 1.4195 - val_accuracy: 0.4410\n",
      "Epoch 5/30\n",
      "34/34 [==============================] - 5s 134ms/step - loss: 1.3974 - accuracy: 0.4342 - val_loss: 1.4096 - val_accuracy: 0.4667\n",
      "Epoch 6/30\n",
      "34/34 [==============================] - 5s 146ms/step - loss: 1.3686 - accuracy: 0.4505 - val_loss: 1.3971 - val_accuracy: 0.4513\n",
      "Epoch 7/30\n",
      "34/34 [==============================] - 5s 153ms/step - loss: 1.3467 - accuracy: 0.4632 - val_loss: 1.3918 - val_accuracy: 0.4821\n",
      "Epoch 8/30\n",
      "34/34 [==============================] - 8s 226ms/step - loss: 1.3729 - accuracy: 0.4614 - val_loss: 1.4052 - val_accuracy: 0.4256\n",
      "Epoch 9/30\n",
      "34/34 [==============================] - 9s 260ms/step - loss: 1.3605 - accuracy: 0.4514 - val_loss: 1.3751 - val_accuracy: 0.4615\n",
      "Epoch 10/30\n",
      "34/34 [==============================] - 8s 225ms/step - loss: 1.3386 - accuracy: 0.4650 - val_loss: 1.4073 - val_accuracy: 0.4154\n",
      "Epoch 11/30\n",
      "34/34 [==============================] - 7s 204ms/step - loss: 1.3345 - accuracy: 0.4659 - val_loss: 1.3968 - val_accuracy: 0.4154\n",
      "Epoch 12/30\n",
      "34/34 [==============================] - 6s 181ms/step - loss: 1.3071 - accuracy: 0.4859 - val_loss: 1.4094 - val_accuracy: 0.4205\n",
      "Epoch 13/30\n",
      "34/34 [==============================] - 6s 173ms/step - loss: 1.2915 - accuracy: 0.4787 - val_loss: 1.3956 - val_accuracy: 0.4051\n",
      "Epoch 14/30\n",
      "34/34 [==============================] - 6s 179ms/step - loss: 1.2837 - accuracy: 0.4832 - val_loss: 1.3843 - val_accuracy: 0.4718\n",
      "Epoch 15/30\n",
      "34/34 [==============================] - 6s 158ms/step - loss: 1.2783 - accuracy: 0.4905 - val_loss: 1.3657 - val_accuracy: 0.4667\n",
      "Epoch 16/30\n",
      "34/34 [==============================] - 6s 175ms/step - loss: 1.2566 - accuracy: 0.4959 - val_loss: 1.4168 - val_accuracy: 0.4359\n",
      "Epoch 17/30\n",
      "34/34 [==============================] - 6s 172ms/step - loss: 1.2603 - accuracy: 0.4877 - val_loss: 1.3368 - val_accuracy: 0.4718\n",
      "Epoch 18/30\n",
      "34/34 [==============================] - 8s 231ms/step - loss: 1.2139 - accuracy: 0.5204 - val_loss: 1.3842 - val_accuracy: 0.4256\n",
      "Epoch 19/30\n",
      "34/34 [==============================] - 5s 143ms/step - loss: 1.2193 - accuracy: 0.5059 - val_loss: 1.4107 - val_accuracy: 0.4513\n",
      "Epoch 20/30\n",
      "34/34 [==============================] - 6s 185ms/step - loss: 1.2471 - accuracy: 0.4950 - val_loss: 1.3772 - val_accuracy: 0.4615\n",
      "Epoch 21/30\n",
      "34/34 [==============================] - 7s 192ms/step - loss: 1.2003 - accuracy: 0.5114 - val_loss: 1.4903 - val_accuracy: 0.3128\n",
      "Epoch 22/30\n",
      "34/34 [==============================] - 7s 206ms/step - loss: 1.2176 - accuracy: 0.5195 - val_loss: 1.4430 - val_accuracy: 0.3692\n",
      "Epoch 23/30\n",
      "34/34 [==============================] - 7s 166ms/step - loss: 1.1846 - accuracy: 0.5277 - val_loss: 1.4178 - val_accuracy: 0.4410\n",
      "Epoch 24/30\n",
      "34/34 [==============================] - 10s 282ms/step - loss: 1.1622 - accuracy: 0.5268 - val_loss: 1.4500 - val_accuracy: 0.3538\n",
      "Epoch 25/30\n",
      "34/34 [==============================] - 10s 286ms/step - loss: 1.1428 - accuracy: 0.5622 - val_loss: 1.4453 - val_accuracy: 0.3897\n",
      "Epoch 26/30\n",
      "34/34 [==============================] - 7s 212ms/step - loss: 1.1488 - accuracy: 0.5350 - val_loss: 1.4689 - val_accuracy: 0.3590\n",
      "Epoch 27/30\n",
      "34/34 [==============================] - 7s 185ms/step - loss: 1.1348 - accuracy: 0.5595 - val_loss: 1.4444 - val_accuracy: 0.4051\n",
      "Epoch 28/30\n",
      "34/34 [==============================] - 7s 198ms/step - loss: 1.1152 - accuracy: 0.5631 - val_loss: 1.5148 - val_accuracy: 0.3436\n",
      "Epoch 29/30\n",
      "34/34 [==============================] - 10s 273ms/step - loss: 1.0905 - accuracy: 0.5622 - val_loss: 1.5178 - val_accuracy: 0.4256\n",
      "Epoch 30/30\n",
      "34/34 [==============================] - 6s 165ms/step - loss: 1.0988 - accuracy: 0.5658 - val_loss: 1.5395 - val_accuracy: 0.4051\n"
     ]
    }
   ],
   "source": [
    "history = model.fit_generator(train_generator_with_data_augmentation, steps_per_epoch=nb_train_samples/32, \n",
    "                    epochs=30,validation_data=validation_generator,\n",
    "                    validation_steps=nb_val_samples/32)"
   ]
  },
  {
   "cell_type": "code",
   "execution_count": 18,
   "metadata": {},
   "outputs": [
    {
     "data": {
      "image/png": "[encoded data removed]",
      "text/plain": [
       "<Figure size 720x288 with 2 Axes>"
      ]
     },
     "metadata": {
      "needs_background": "light"
     },
     "output_type": "display_data"
    }
   ],
   "source": [
    "figure= plt.figure(figsize=(10,4))\n",
    "ax = plt.subplot(121)\n",
    "ax.plot(history.history['loss'], 'r', label='train')\n",
    "ax.plot(history.history['val_loss'], 'g', label='val')\n",
    "\n",
    "plt.legend()\n",
    "plt.grid(axis='y')\n",
    "plt.xlabel(\"epoch\")\n",
    "plt.ylabel(\"Loss\")\n",
    "\n",
    "ax2 = plt.subplot(122)\n",
    "ax2.plot(history.history['accuracy'], 'b', label=\"train\")\n",
    "ax2.plot(history.history['val_accuracy'], 'g', label=\"val\")\n",
    "plt.legend()\n",
    "plt.xlabel(\"epoch\")\n",
    "plt.ylabel(\"accuracy\")\n",
    "plt.grid(axis='y')\n",
    "plt.savefig(\"cifar10_training_val_data_augmentation\")"
   ]
  },
  {
   "cell_type": "markdown",
   "metadata": {},
   "source": [
    "## CNN with Maxpooling layers Without Data Augumentation"
   ]
  },
  {
   "cell_type": "code",
   "execution_count": 19,
   "metadata": {},
   "outputs": [],
   "source": [
    "model2 =models.Sequential()\n",
    "model2.add(tf.keras.layers.Conv2D(16, (3,3), activation=\"relu\", input_shape=(32,32,3), padding=\"same\"))\n",
    "model2.add(tf.keras.layers.MaxPooling2D(2,2))\n",
    "model2.add(tf.keras.layers.Conv2D(16, (3,3), activation=\"relu\", padding=\"same\"))\n",
    "model2.add(tf.keras.layers.Flatten())\n",
    "model2.add(tf.keras.layers.Dropout(0.4))\n",
    "model2.add(tf.keras.layers.Dense(64, activation=\"relu\"))\n",
    "model2.add(tf.keras.layers.Dense(10))"
   ]
  },
  {
   "cell_type": "code",
   "execution_count": 20,
   "metadata": {},
   "outputs": [],
   "source": [
    "model2.compile(optimizer=optimizer_fn,\n",
    "              loss=loss_fn,\n",
    "              metrics=['accuracy'])"
   ]
  },
  {
   "cell_type": "code",
   "execution_count": 21,
   "metadata": {},
   "outputs": [
    {
     "name": "stdout",
     "output_type": "stream",
     "text": [
      "Epoch 1/30\n",
      "34/34 [==============================] - 5s 110ms/step - loss: 1.5309 - accuracy: 0.4160 - val_loss: 1.5476 - val_accuracy: 0.4462\n",
      "Epoch 2/30\n",
      "34/34 [==============================] - 4s 106ms/step - loss: 1.4317 - accuracy: 0.4414 - val_loss: 1.4025 - val_accuracy: 0.4462\n",
      "Epoch 3/30\n",
      "34/34 [==============================] - 4s 105ms/step - loss: 1.3948 - accuracy: 0.4478 - val_loss: 1.3997 - val_accuracy: 0.4462\n",
      "Epoch 4/30\n",
      "34/34 [==============================] - 4s 110ms/step - loss: 1.3672 - accuracy: 0.4505 - val_loss: 1.4134 - val_accuracy: 0.4513\n",
      "Epoch 5/30\n",
      "34/34 [==============================] - 5s 150ms/step - loss: 1.3338 - accuracy: 0.4732 - val_loss: 1.4178 - val_accuracy: 0.4513\n",
      "Epoch 6/30\n",
      "34/34 [==============================] - 4s 120ms/step - loss: 1.2769 - accuracy: 0.4905 - val_loss: 1.3909 - val_accuracy: 0.4154\n",
      "Epoch 7/30\n",
      "34/34 [==============================] - 4s 120ms/step - loss: 1.2476 - accuracy: 0.5286 - val_loss: 1.3768 - val_accuracy: 0.4769\n",
      "Epoch 8/30\n",
      "34/34 [==============================] - 4s 110ms/step - loss: 1.2309 - accuracy: 0.5114 - val_loss: 1.3863 - val_accuracy: 0.4359\n",
      "Epoch 9/30\n",
      "34/34 [==============================] - 5s 140ms/step - loss: 1.1541 - accuracy: 0.5486 - val_loss: 1.4087 - val_accuracy: 0.4564\n",
      "Epoch 10/30\n",
      "34/34 [==============================] - 6s 176ms/step - loss: 1.1196 - accuracy: 0.5595 - val_loss: 1.4057 - val_accuracy: 0.4615\n",
      "Epoch 11/30\n",
      "34/34 [==============================] - 4s 109ms/step - loss: 1.0802 - accuracy: 0.5795 - val_loss: 1.4526 - val_accuracy: 0.4462\n",
      "Epoch 12/30\n",
      "34/34 [==============================] - 4s 117ms/step - loss: 1.0276 - accuracy: 0.5949 - val_loss: 1.4147 - val_accuracy: 0.3846\n",
      "Epoch 13/30\n",
      "34/34 [==============================] - 4s 112ms/step - loss: 0.9962 - accuracy: 0.5967 - val_loss: 1.4166 - val_accuracy: 0.4000\n",
      "Epoch 14/30\n",
      "34/34 [==============================] - 4s 108ms/step - loss: 0.9613 - accuracy: 0.6322 - val_loss: 1.4152 - val_accuracy: 0.4103\n",
      "Epoch 15/30\n",
      "34/34 [==============================] - 4s 106ms/step - loss: 0.9276 - accuracy: 0.6203 - val_loss: 1.4404 - val_accuracy: 0.4103\n",
      "Epoch 16/30\n",
      "34/34 [==============================] - 4s 107ms/step - loss: 0.8911 - accuracy: 0.6431 - val_loss: 1.4833 - val_accuracy: 0.4308\n",
      "Epoch 17/30\n",
      "34/34 [==============================] - 4s 105ms/step - loss: 0.8507 - accuracy: 0.6685 - val_loss: 1.4679 - val_accuracy: 0.3949\n",
      "Epoch 18/30\n",
      "34/34 [==============================] - 4s 114ms/step - loss: 0.8254 - accuracy: 0.6821 - val_loss: 1.4942 - val_accuracy: 0.4205\n",
      "Epoch 19/30\n",
      "34/34 [==============================] - 5s 149ms/step - loss: 0.7370 - accuracy: 0.7212 - val_loss: 1.5010 - val_accuracy: 0.3897\n",
      "Epoch 20/30\n",
      "34/34 [==============================] - 4s 123ms/step - loss: 0.7452 - accuracy: 0.7166 - val_loss: 1.5451 - val_accuracy: 0.3590\n",
      "Epoch 21/30\n",
      "34/34 [==============================] - 4s 113ms/step - loss: 0.7181 - accuracy: 0.7203 - val_loss: 1.6299 - val_accuracy: 0.3949\n",
      "Epoch 22/30\n",
      "34/34 [==============================] - 4s 115ms/step - loss: 0.6879 - accuracy: 0.7221 - val_loss: 1.5787 - val_accuracy: 0.3846\n",
      "Epoch 23/30\n",
      "34/34 [==============================] - 4s 112ms/step - loss: 0.6694 - accuracy: 0.7393 - val_loss: 1.6001 - val_accuracy: 0.3846\n",
      "Epoch 24/30\n",
      "34/34 [==============================] - 4s 114ms/step - loss: 0.6252 - accuracy: 0.7675 - val_loss: 1.5932 - val_accuracy: 0.4308\n",
      "Epoch 25/30\n",
      "34/34 [==============================] - 4s 112ms/step - loss: 0.5930 - accuracy: 0.7657 - val_loss: 1.7429 - val_accuracy: 0.4308\n",
      "Epoch 26/30\n",
      "34/34 [==============================] - 4s 113ms/step - loss: 0.6000 - accuracy: 0.7575 - val_loss: 1.6427 - val_accuracy: 0.4154\n",
      "Epoch 27/30\n",
      "34/34 [==============================] - 4s 116ms/step - loss: 0.5619 - accuracy: 0.7956 - val_loss: 1.7536 - val_accuracy: 0.4000\n",
      "Epoch 28/30\n",
      "34/34 [==============================] - 4s 112ms/step - loss: 0.5032 - accuracy: 0.8020 - val_loss: 1.7633 - val_accuracy: 0.4308\n",
      "Epoch 29/30\n",
      "34/34 [==============================] - 4s 112ms/step - loss: 0.4954 - accuracy: 0.8202 - val_loss: 1.7283 - val_accuracy: 0.3949\n",
      "Epoch 30/30\n",
      "34/34 [==============================] - 4s 114ms/step - loss: 0.4885 - accuracy: 0.8138 - val_loss: 1.7674 - val_accuracy: 0.4051\n"
     ]
    }
   ],
   "source": [
    "history = model2.fit_generator(train_generator, steps_per_epoch=nb_train_samples/32, \n",
    "                    epochs=30, validation_data=validation_generator,\n",
    "                    validation_steps=nb_val_samples/32)"
   ]
  },
  {
   "cell_type": "code",
   "execution_count": 22,
   "metadata": {},
   "outputs": [
    {
     "data": {
      "image/png": "[encoded data removed]",
      "text/plain": [
       "<Figure size 720x288 with 2 Axes>"
      ]
     },
     "metadata": {
      "needs_background": "light"
     },
     "output_type": "display_data"
    }
   ],
   "source": [
    "figure= plt.figure(figsize=(10,4))\n",
    "ax = plt.subplot(121)\n",
    "ax.plot(history.history['loss'], 'r', label='train')\n",
    "ax.plot(history.history['val_loss'], 'g', label='val')\n",
    "\n",
    "plt.legend()\n",
    "plt.grid(axis='y')\n",
    "plt.xlabel(\"epoch\")\n",
    "plt.ylabel(\"Loss\")\n",
    "\n",
    "ax2 = plt.subplot(122)\n",
    "ax2.plot(history.history['accuracy'], 'b', label=\"train\")\n",
    "ax2.plot(history.history['val_accuracy'], 'g', label=\"val\")\n",
    "plt.legend()\n",
    "plt.xlabel(\"epoch\")\n",
    "plt.ylabel(\"accuracy\")\n",
    "plt.grid(axis='y')\n",
    "plt.savefig(\"cifar10_training_val_with0_dropout_maxpool\")"
   ]
  },
  {
   "cell_type": "markdown",
   "metadata": {},
   "source": [
    "## CNN with Maxpooling layers With Data Augumentation"
   ]
  },
  {
   "cell_type": "code",
   "execution_count": 23,
   "metadata": {},
   "outputs": [],
   "source": [
    "model2 =models.Sequential()\n",
    "model2.add(tf.keras.layers.Conv2D(16, (3,3), activation=\"relu\", input_shape=(32,32,3), padding=\"same\"))\n",
    "model2.add(tf.keras.layers.MaxPooling2D(2,2))\n",
    "model2.add(tf.keras.layers.Conv2D(16, (3,3), activation=\"relu\", padding=\"same\"))\n",
    "model2.add(tf.keras.layers.Flatten())\n",
    "model2.add(tf.keras.layers.Dropout(0.4))\n",
    "model2.add(tf.keras.layers.Dense(64, activation=\"relu\"))\n",
    "model2.add(tf.keras.layers.Dense(10))"
   ]
  },
  {
   "cell_type": "code",
   "execution_count": 24,
   "metadata": {},
   "outputs": [],
   "source": [
    "model2.compile(optimizer=optimizer_fn,\n",
    "              loss=loss_fn,\n",
    "              metrics=['accuracy'])"
   ]
  },
  {
   "cell_type": "code",
   "execution_count": 25,
   "metadata": {},
   "outputs": [
    {
     "name": "stdout",
     "output_type": "stream",
     "text": [
      "Epoch 1/30\n",
      "34/34 [==============================] - 5s 139ms/step - loss: 1.5832 - accuracy: 0.3742 - val_loss: 1.4356 - val_accuracy: 0.4462\n",
      "Epoch 2/30\n",
      "34/34 [==============================] - 4s 125ms/step - loss: 1.4239 - accuracy: 0.4478 - val_loss: 1.4372 - val_accuracy: 0.4308\n",
      "Epoch 3/30\n",
      "34/34 [==============================] - 4s 123ms/step - loss: 1.4176 - accuracy: 0.4487 - val_loss: 1.4152 - val_accuracy: 0.4462\n",
      "Epoch 4/30\n",
      "34/34 [==============================] - 4s 126ms/step - loss: 1.4081 - accuracy: 0.4460 - val_loss: 1.4153 - val_accuracy: 0.4462\n",
      "Epoch 5/30\n",
      "34/34 [==============================] - 4s 122ms/step - loss: 1.4103 - accuracy: 0.4432 - val_loss: 1.4109 - val_accuracy: 0.4462\n",
      "Epoch 6/30\n",
      "34/34 [==============================] - 4s 126ms/step - loss: 1.4108 - accuracy: 0.4478 - val_loss: 1.4127 - val_accuracy: 0.4462\n",
      "Epoch 7/30\n",
      "34/34 [==============================] - 4s 126ms/step - loss: 1.3983 - accuracy: 0.4496 - val_loss: 1.4012 - val_accuracy: 0.4462\n",
      "Epoch 8/30\n",
      "34/34 [==============================] - 4s 122ms/step - loss: 1.3947 - accuracy: 0.4360 - val_loss: 1.3975 - val_accuracy: 0.4462\n",
      "Epoch 9/30\n",
      "34/34 [==============================] - 4s 124ms/step - loss: 1.3930 - accuracy: 0.4487 - val_loss: 1.4083 - val_accuracy: 0.4462\n",
      "Epoch 10/30\n",
      "34/34 [==============================] - 4s 123ms/step - loss: 1.3882 - accuracy: 0.4432 - val_loss: 1.4053 - val_accuracy: 0.4462\n",
      "Epoch 11/30\n",
      "34/34 [==============================] - 4s 121ms/step - loss: 1.3781 - accuracy: 0.4514 - val_loss: 1.3970 - val_accuracy: 0.4462\n",
      "Epoch 12/30\n",
      "34/34 [==============================] - 4s 129ms/step - loss: 1.3905 - accuracy: 0.4378 - val_loss: 1.4046 - val_accuracy: 0.44620s - loss: 1.379\n",
      "Epoch 13/30\n",
      "34/34 [==============================] - 4s 123ms/step - loss: 1.3867 - accuracy: 0.4487 - val_loss: 1.3897 - val_accuracy: 0.4462\n",
      "Epoch 14/30\n",
      "34/34 [==============================] - 4s 126ms/step - loss: 1.3672 - accuracy: 0.4487 - val_loss: 1.3930 - val_accuracy: 0.4462\n",
      "Epoch 15/30\n",
      "34/34 [==============================] - 6s 167ms/step - loss: 1.3736 - accuracy: 0.4496 - val_loss: 1.3953 - val_accuracy: 0.4462\n",
      "Epoch 16/30\n",
      "34/34 [==============================] - 6s 137ms/step - loss: 1.3686 - accuracy: 0.4532 - val_loss: 1.3830 - val_accuracy: 0.4564\n",
      "Epoch 17/30\n",
      "34/34 [==============================] - 4s 121ms/step - loss: 1.3621 - accuracy: 0.4478 - val_loss: 1.4057 - val_accuracy: 0.4462\n",
      "Epoch 18/30\n",
      "34/34 [==============================] - 4s 123ms/step - loss: 1.3543 - accuracy: 0.4514 - val_loss: 1.3900 - val_accuracy: 0.4513\n",
      "Epoch 19/30\n",
      "34/34 [==============================] - 4s 124ms/step - loss: 1.3611 - accuracy: 0.4596 - val_loss: 1.3826 - val_accuracy: 0.4615\n",
      "Epoch 20/30\n",
      "34/34 [==============================] - 5s 139ms/step - loss: 1.3448 - accuracy: 0.4587 - val_loss: 1.3859 - val_accuracy: 0.4718\n",
      "Epoch 21/30\n",
      "34/34 [==============================] - 5s 139ms/step - loss: 1.3520 - accuracy: 0.4505 - val_loss: 1.4130 - val_accuracy: 0.4205\n",
      "Epoch 22/30\n",
      "34/34 [==============================] - 4s 130ms/step - loss: 1.3334 - accuracy: 0.4632 - val_loss: 1.3831 - val_accuracy: 0.4667\n",
      "Epoch 23/30\n",
      "34/34 [==============================] - 4s 118ms/step - loss: 1.3312 - accuracy: 0.4605 - val_loss: 1.3874 - val_accuracy: 0.4256\n",
      "Epoch 24/30\n",
      "34/34 [==============================] - 4s 115ms/step - loss: 1.3378 - accuracy: 0.4596 - val_loss: 1.4061 - val_accuracy: 0.4154\n",
      "Epoch 25/30\n",
      "34/34 [==============================] - 5s 129ms/step - loss: 1.3350 - accuracy: 0.4605 - val_loss: 1.3774 - val_accuracy: 0.4667\n",
      "Epoch 26/30\n",
      "34/34 [==============================] - 4s 127ms/step - loss: 1.3326 - accuracy: 0.4732 - val_loss: 1.3786 - val_accuracy: 0.4564\n",
      "Epoch 27/30\n",
      "34/34 [==============================] - 4s 126ms/step - loss: 1.3198 - accuracy: 0.4768 - val_loss: 1.3837 - val_accuracy: 0.4564\n",
      "Epoch 28/30\n",
      "34/34 [==============================] - 4s 123ms/step - loss: 1.3196 - accuracy: 0.4650 - val_loss: 1.3792 - val_accuracy: 0.4615\n",
      "Epoch 29/30\n",
      "34/34 [==============================] - 6s 173ms/step - loss: 1.3106 - accuracy: 0.4714 - val_loss: 1.3757 - val_accuracy: 0.4667\n",
      "Epoch 30/30\n",
      "34/34 [==============================] - 8s 236ms/step - loss: 1.3209 - accuracy: 0.4623 - val_loss: 1.3929 - val_accuracy: 0.4154\n"
     ]
    }
   ],
   "source": [
    "history = model2.fit_generator(train_generator_with_data_augmentation, steps_per_epoch=nb_train_samples/32, \n",
    "                    epochs=30, validation_data=validation_generator,\n",
    "                    validation_steps=nb_val_samples/32)"
   ]
  },
  {
   "cell_type": "markdown",
   "metadata": {},
   "source": [
    "\n"
   ]
  }
 ],
 "metadata": {
  "kernelspec": {
   "display_name": "Python 3",
   "language": "python",
   "name": "python3"
  },
  "language_info": {
   "codemirror_mode": {
    "name": "ipython",
    "version": 3
   },
   "file_extension": ".py",
   "mimetype": "text/x-python",
   "name": "python",
   "nbconvert_exporter": "python",
   "pygments_lexer": "ipython3",
   "version": "3.8.8"
  }
 },
 "nbformat": 4,
 "nbformat_minor": 4
}
